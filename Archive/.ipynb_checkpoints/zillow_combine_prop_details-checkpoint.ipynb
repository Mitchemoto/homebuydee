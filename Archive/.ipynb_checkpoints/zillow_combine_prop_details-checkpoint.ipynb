{
 "cells": [
  {
   "cell_type": "code",
   "execution_count": null,
   "id": "32f7cb1c-00df-48ad-b3b7-98628cad4e86",
   "metadata": {},
   "outputs": [],
   "source": [
    "#import dependencies\n",
    "import pandas as pd\n",
    "\n",
    "# Define the path to the CSV file\n",
    "csv_path = r\"C:/Users/mitchele/University of Iowa/Dedas, Jason M - Analytics Experience Group 2/Data/property_details.csv\"\n",
    "csv_path1 = r\"C:/Users/mitchele/University of Iowa/Dedas, Jason M - Analytics Experience Group 2/Data/property_details_missing.csv\"\n",
    "\n",
    "# Read the CSV file into a DataFrame\n",
    "properties_df = pd.read_csv(csv_path)\n",
    "details_df = pd.read_csv(csv_path1)\n",
    "\n",
    "\n"
   ]
  }
 ],
 "metadata": {
  "kernelspec": {
   "display_name": "Python 3 (ipykernel)",
   "language": "python",
   "name": "python3"
  },
  "language_info": {
   "codemirror_mode": {
    "name": "ipython",
    "version": 3
   },
   "file_extension": ".py",
   "mimetype": "text/x-python",
   "name": "python",
   "nbconvert_exporter": "python",
   "pygments_lexer": "ipython3",
   "version": "3.10.14"
  }
 },
 "nbformat": 4,
 "nbformat_minor": 5
}
