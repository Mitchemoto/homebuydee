{
 "cells": [
  {
   "cell_type": "code",
   "execution_count": 11,
   "id": "6fbec549-4d82-4f2f-8008-03ebe7639bce",
   "metadata": {},
   "outputs": [
    {
     "name": "stderr",
     "output_type": "stream",
     "text": [
      "C:\\Users\\mitchele\\AppData\\Local\\Temp\\ipykernel_24720\\3624118347.py:10: DtypeWarning: Columns (21,49,52,56,60,64,65,66,68,70,71,75,79,81,86,90,91,95,108,109,123,124,127,128,131,132,143,145,149,150,154,161,166,167,170,172,174,179,180,186,187,192,194,198,202,208,213,218,220,222,223,224,225,228,229,232,235,240,245,246,247,248,249,250,251,252,253,276,280,282,283,300,303,305,306,309,313,314,315,316,317,318) have mixed types. Specify dtype option on import or set low_memory=False.\n",
      "  details_df = pd.read_csv(csv_path1)\n"
     ]
    }
   ],
   "source": [
    "# check to verify that all zpid's from zillow_properties.csv are in property_details.csv\n",
    "#import dependencies\n",
    "import pandas as pd\n",
    "\n",
    "# Define the path to the CSV file\n",
    "csv_path = r\".../Data/zillow_properties.csv\"\n",
    "csv_path1 = r\".../Data/property_details.csv\"\n",
    "\n",
    "# Read the CSV file into a DataFrame\n",
    "properties_df = pd.read_csv(csv_path)\n",
    "details_df = pd.read_csv(csv_path1)\n",
    "\n",
    "# Create 2 lists of the zpid's\n",
    "zpid_list = properties_df['zpid'].tolist()\n",
    "zpid_list_1 = details_df['zpid'].tolist()\n",
    "\n",
    "# Find the difference between the two lists\n",
    "zpid_difference = set(zpid_list) - set(zpid_list_1)\n",
    "\n",
    "# Filter the properties_df to include only rows with zpids in the difference list\n",
    "difference_df = properties_df[properties_df['zpid'].isin(zpid_difference)]\n",
    "\n",
    "# difference_df = pd.DataFrame(difference_df)\n",
    "# difference_df\n",
    "\n",
    "# Define the path to save the difference CSV\n",
    "difference_csv_path = r\".../Data/zpid_difference.csv\"\n",
    "\n",
    "# Save the difference DataFrame to a CSV file\n",
    "difference_df.to_csv(difference_csv_path, index=False)\n"
   ]
  },
  {
   "cell_type": "code",
   "execution_count": null,
   "id": "9e462263-e95b-4095-bce4-25d71a67ba3d",
   "metadata": {},
   "outputs": [],
   "source": []
  }
 ],
 "metadata": {
  "kernelspec": {
   "display_name": "Python 3 (ipykernel)",
   "language": "python",
   "name": "python3"
  },
  "language_info": {
   "codemirror_mode": {
    "name": "ipython",
    "version": 3
   },
   "file_extension": ".py",
   "mimetype": "text/x-python",
   "name": "python",
   "nbconvert_exporter": "python",
   "pygments_lexer": "ipython3",
   "version": "3.12.4"
  }
 },
 "nbformat": 4,
 "nbformat_minor": 5
}
